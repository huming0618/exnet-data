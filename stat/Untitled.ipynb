{
 "cells": [
  {
   "cell_type": "code",
   "execution_count": 2,
   "metadata": {},
   "outputs": [
    {
     "name": "stdout",
     "output_type": "stream",
     "text": [
      "Read - records 200001 in number of lines 200011, duration: 2.5708978176116943 seconds\n"
     ]
    },
    {
     "name": "stderr",
     "output_type": "stream",
     "text": [
      "Exception ignored in: <generator object read_record at 0x0000023D84701D58>\n",
      "RuntimeError: generator ignored GeneratorExit\n"
     ]
    },
    {
     "name": "stdout",
     "output_type": "stream",
     "text": [
      "ok_sub_spot_eth_btc_depth     5150\n",
      "ok_sub_spot_etc_btc_depth     5126\n",
      "ok_sub_spot_bch_btc_depth     5125\n",
      "ok_sub_spot_btc_usdt_depth    5089\n",
      "ok_sub_spot_ltc_btc_depth     5028\n",
      "ok_sub_spot_eth_usdt_depth    5017\n",
      "ok_sub_spot_ltc_usdt_depth    4897\n",
      "ok_sub_spot_bch_usdt_depth    4786\n",
      "ok_sub_spot_eos_btc_depth     4688\n",
      "ok_sub_spot_eos_usdt_depth    4593\n",
      "Name: channel, dtype: int64\n"
     ]
    }
   ],
   "source": [
    "%run read.py e:\\nohup.out"
   ]
  }
 ],
 "metadata": {
  "kernelspec": {
   "display_name": "Python 3",
   "language": "python",
   "name": "python3"
  },
  "language_info": {
   "codemirror_mode": {
    "name": "ipython",
    "version": 3
   },
   "file_extension": ".py",
   "mimetype": "text/x-python",
   "name": "python",
   "nbconvert_exporter": "python",
   "pygments_lexer": "ipython3",
   "version": "3.6.4"
  }
 },
 "nbformat": 4,
 "nbformat_minor": 2
}
